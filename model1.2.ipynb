{
 "cells": [
  {
   "cell_type": "code",
   "execution_count": 1,
   "id": "58f1ce8b",
   "metadata": {},
   "outputs": [],
   "source": [
    "import tensorflow as tf\n",
    "from tensorflow.keras.preprocessing.image import ImageDataGenerator\n",
    "from tensorflow.keras.models import Sequential\n",
    "from tensorflow.keras.layers import Conv2D, MaxPooling2D, Flatten, Dense, Dropout"
   ]
  },
  {
   "cell_type": "code",
   "execution_count": 2,
   "id": "2a4c9385",
   "metadata": {},
   "outputs": [],
   "source": [
    "# Define the paths to your training and testing datasets\n",
    "train_data_dir = 'C:/Users/User/Downloads/terrain classification/dataset-1/train'\n",
    "test_data_dir = 'C:/Users/User/Downloads/terrain classification/dataset-1/test'"
   ]
  },
  {
   "cell_type": "code",
   "execution_count": 3,
   "id": "814966c9",
   "metadata": {},
   "outputs": [],
   "source": [
    "# Set hyperparameters\n",
    "batch_size = 32\n",
    "epochs = 10\n",
    "input_shape = (224, 224, 3)  # Adjust dimensions as per your dataset"
   ]
  },
  {
   "cell_type": "code",
   "execution_count": 4,
   "id": "13b34bd5",
   "metadata": {},
   "outputs": [],
   "source": [
    "# Data augmentation for the training dataset (optional but recommended)\n",
    "train_datagen = ImageDataGenerator(\n",
    "    rescale=1.0 / 255,\n",
    "    rotation_range=20,\n",
    "    width_shift_range=0.2,\n",
    "    height_shift_range=0.2,\n",
    "    shear_range=0.2,\n",
    "    zoom_range=0.2,\n",
    "    horizontal_flip=True,\n",
    "    fill_mode='nearest'\n",
    ")"
   ]
  },
  {
   "cell_type": "code",
   "execution_count": 5,
   "id": "745b0506",
   "metadata": {},
   "outputs": [
    {
     "name": "stdout",
     "output_type": "stream",
     "text": [
      "Found 1813 images belonging to 4 classes.\n"
     ]
    }
   ],
   "source": [
    "# Load and preprocess the training dataset\n",
    "train_generator = train_datagen.flow_from_directory(\n",
    "    train_data_dir,\n",
    "    target_size=input_shape[:2],\n",
    "    batch_size=batch_size,\n",
    "    class_mode='categorical'  # Change to 'binary' if it's binary classification\n",
    ")\n"
   ]
  },
  {
   "cell_type": "code",
   "execution_count": 6,
   "id": "83f11078",
   "metadata": {},
   "outputs": [
    {
     "name": "stdout",
     "output_type": "stream",
     "text": [
      "Found 778 images belonging to 4 classes.\n"
     ]
    }
   ],
   "source": [
    "# Load and preprocess the testing dataset\n",
    "test_datagen = ImageDataGenerator(rescale=1.0 / 255)\n",
    "\n",
    "test_generator = test_datagen.flow_from_directory(\n",
    "    test_data_dir,\n",
    "    target_size=input_shape[:2],\n",
    "    batch_size=batch_size,\n",
    "    class_mode='categorical'\n",
    ")"
   ]
  },
  {
   "cell_type": "code",
   "execution_count": 8,
   "id": "cdd54843",
   "metadata": {},
   "outputs": [],
   "source": [
    "# Define your CNN model\n",
    "model = Sequential()\n",
    "model.add(Conv2D(32, (3, 3), activation='relu', input_shape=input_shape))\n",
    "model.add(MaxPooling2D((2, 2)))\n",
    "model.add(Conv2D(64, (3, 3), activation='relu'))\n",
    "model.add(MaxPooling2D((2, 2)))\n",
    "model.add(Conv2D(128, (3, 3), activation='relu'))\n",
    "model.add(MaxPooling2D((2, 2)))\n",
    "model.add(Flatten())\n",
    "model.add(Dense(256, activation='relu'))\n",
    "model.add(Dropout(0.5))\n",
    "model.add(Dense(4, activation='softmax'))  # Adjust num_classes"
   ]
  },
  {
   "cell_type": "code",
   "execution_count": 9,
   "id": "f14b31dc",
   "metadata": {},
   "outputs": [],
   "source": [
    "# Compile the model\n",
    "model.compile(optimizer='adam', loss='categorical_crossentropy', metrics=['accuracy'])"
   ]
  },
  {
   "cell_type": "code",
   "execution_count": 10,
   "id": "de6ff700",
   "metadata": {},
   "outputs": [
    {
     "name": "stdout",
     "output_type": "stream",
     "text": [
      "Epoch 1/35\n",
      "57/57 [==============================] - 130s 2s/step - loss: 0.8327 - accuracy: 0.6895 - val_loss: 0.5026 - val_accuracy: 0.8406\n",
      "Epoch 2/35\n",
      "57/57 [==============================] - 147s 3s/step - loss: 0.5229 - accuracy: 0.7882 - val_loss: 0.5163 - val_accuracy: 0.8201\n",
      "Epoch 3/35\n",
      "57/57 [==============================] - 148s 3s/step - loss: 0.4827 - accuracy: 0.8229 - val_loss: 0.5144 - val_accuracy: 0.8316\n",
      "Epoch 4/35\n",
      "57/57 [==============================] - 137s 2s/step - loss: 0.4458 - accuracy: 0.8367 - val_loss: 0.5204 - val_accuracy: 0.7995\n",
      "Epoch 5/35\n",
      "57/57 [==============================] - 136s 2s/step - loss: 0.3868 - accuracy: 0.8693 - val_loss: 0.4300 - val_accuracy: 0.8509\n",
      "Epoch 6/35\n",
      "57/57 [==============================] - 122s 2s/step - loss: 0.3659 - accuracy: 0.8649 - val_loss: 0.5109 - val_accuracy: 0.8316\n",
      "Epoch 7/35\n",
      "57/57 [==============================] - 122s 2s/step - loss: 0.3903 - accuracy: 0.8566 - val_loss: 0.3808 - val_accuracy: 0.8753\n",
      "Epoch 8/35\n",
      "57/57 [==============================] - 122s 2s/step - loss: 0.3543 - accuracy: 0.8715 - val_loss: 0.4288 - val_accuracy: 0.8612\n",
      "Epoch 9/35\n",
      "57/57 [==============================] - 122s 2s/step - loss: 0.3333 - accuracy: 0.8742 - val_loss: 0.5102 - val_accuracy: 0.8393\n",
      "Epoch 10/35\n",
      "57/57 [==============================] - 120s 2s/step - loss: 0.3207 - accuracy: 0.8825 - val_loss: 0.3749 - val_accuracy: 0.8728\n",
      "Epoch 11/35\n",
      "57/57 [==============================] - 120s 2s/step - loss: 0.3561 - accuracy: 0.8753 - val_loss: 0.4593 - val_accuracy: 0.8419\n",
      "Epoch 12/35\n",
      "57/57 [==============================] - 120s 2s/step - loss: 0.3028 - accuracy: 0.8924 - val_loss: 0.3369 - val_accuracy: 0.8792\n",
      "Epoch 13/35\n",
      "57/57 [==============================] - 121s 2s/step - loss: 0.3089 - accuracy: 0.8820 - val_loss: 0.3248 - val_accuracy: 0.8843\n",
      "Epoch 14/35\n",
      "57/57 [==============================] - 121s 2s/step - loss: 0.2674 - accuracy: 0.9029 - val_loss: 0.3857 - val_accuracy: 0.8817\n",
      "Epoch 15/35\n",
      "57/57 [==============================] - 121s 2s/step - loss: 0.2764 - accuracy: 0.9035 - val_loss: 0.4345 - val_accuracy: 0.8740\n",
      "Epoch 16/35\n",
      "57/57 [==============================] - 120s 2s/step - loss: 0.3168 - accuracy: 0.8798 - val_loss: 0.4496 - val_accuracy: 0.8483\n",
      "Epoch 17/35\n",
      "57/57 [==============================] - 120s 2s/step - loss: 0.3162 - accuracy: 0.8908 - val_loss: 0.3965 - val_accuracy: 0.8638\n",
      "Epoch 18/35\n",
      "57/57 [==============================] - 121s 2s/step - loss: 0.2847 - accuracy: 0.8902 - val_loss: 0.3960 - val_accuracy: 0.8715\n",
      "Epoch 19/35\n",
      "57/57 [==============================] - 121s 2s/step - loss: 0.2819 - accuracy: 0.8958 - val_loss: 0.2629 - val_accuracy: 0.9126\n",
      "Epoch 20/35\n",
      "57/57 [==============================] - 121s 2s/step - loss: 0.2512 - accuracy: 0.9106 - val_loss: 0.2747 - val_accuracy: 0.9126\n",
      "Epoch 21/35\n",
      "57/57 [==============================] - 120s 2s/step - loss: 0.2694 - accuracy: 0.8946 - val_loss: 0.2908 - val_accuracy: 0.9087\n",
      "Epoch 22/35\n",
      "57/57 [==============================] - 120s 2s/step - loss: 0.2525 - accuracy: 0.9095 - val_loss: 0.2708 - val_accuracy: 0.9087\n",
      "Epoch 23/35\n",
      "57/57 [==============================] - 120s 2s/step - loss: 0.2536 - accuracy: 0.9101 - val_loss: 0.3172 - val_accuracy: 0.9010\n",
      "Epoch 24/35\n",
      "57/57 [==============================] - 129s 2s/step - loss: 0.2330 - accuracy: 0.9178 - val_loss: 0.2882 - val_accuracy: 0.9087\n",
      "Epoch 25/35\n",
      "57/57 [==============================] - 121s 2s/step - loss: 0.2306 - accuracy: 0.9129 - val_loss: 0.2721 - val_accuracy: 0.9113\n",
      "Epoch 26/35\n",
      "57/57 [==============================] - 121s 2s/step - loss: 0.2486 - accuracy: 0.9123 - val_loss: 0.2651 - val_accuracy: 0.9216\n",
      "Epoch 27/35\n",
      "57/57 [==============================] - 121s 2s/step - loss: 0.2235 - accuracy: 0.9156 - val_loss: 0.2873 - val_accuracy: 0.9075\n",
      "Epoch 28/35\n",
      "57/57 [==============================] - 123s 2s/step - loss: 0.2323 - accuracy: 0.9129 - val_loss: 0.3224 - val_accuracy: 0.9010\n",
      "Epoch 29/35\n",
      "57/57 [==============================] - 122s 2s/step - loss: 0.2237 - accuracy: 0.9184 - val_loss: 0.2935 - val_accuracy: 0.9036\n",
      "Epoch 30/35\n",
      "57/57 [==============================] - 122s 2s/step - loss: 0.2574 - accuracy: 0.9040 - val_loss: 0.3062 - val_accuracy: 0.8985\n",
      "Epoch 31/35\n",
      "57/57 [==============================] - 131s 2s/step - loss: 0.2269 - accuracy: 0.9129 - val_loss: 0.2563 - val_accuracy: 0.9113\n",
      "Epoch 32/35\n",
      "57/57 [==============================] - 155s 3s/step - loss: 0.2354 - accuracy: 0.9068 - val_loss: 0.3052 - val_accuracy: 0.9036\n",
      "Epoch 33/35\n",
      "57/57 [==============================] - 145s 3s/step - loss: 0.2138 - accuracy: 0.9250 - val_loss: 0.2832 - val_accuracy: 0.9165\n",
      "Epoch 34/35\n",
      "57/57 [==============================] - 139s 2s/step - loss: 0.2118 - accuracy: 0.9200 - val_loss: 0.2676 - val_accuracy: 0.9152\n",
      "Epoch 35/35\n",
      "57/57 [==============================] - 139s 2s/step - loss: 0.2089 - accuracy: 0.9288 - val_loss: 0.2584 - val_accuracy: 0.9177\n"
     ]
    },
    {
     "data": {
      "text/plain": [
       "<keras.src.callbacks.History at 0x1f70673d570>"
      ]
     },
     "execution_count": 10,
     "metadata": {},
     "output_type": "execute_result"
    }
   ],
   "source": [
    "# Train the model\n",
    "model.fit(\n",
    "    train_generator,\n",
    "    steps_per_epoch=len(train_generator),\n",
    "    epochs=35,\n",
    "    validation_data=test_generator,\n",
    "    validation_steps=len(test_generator)\n",
    ")"
   ]
  },
  {
   "cell_type": "code",
   "execution_count": 11,
   "id": "3583927b",
   "metadata": {},
   "outputs": [
    {
     "name": "stdout",
     "output_type": "stream",
     "text": [
      "25/25 [==============================] - 11s 445ms/step - loss: 0.2584 - accuracy: 0.9177\n",
      "Test accuracy: 0.9177377820014954\n"
     ]
    }
   ],
   "source": [
    "# Evaluate the model\n",
    "accuracy = model.evaluate(test_generator, steps=len(test_generator))\n",
    "print(\"Test accuracy:\", accuracy[1])"
   ]
  },
  {
   "cell_type": "code",
   "execution_count": 12,
   "id": "1d5de52e",
   "metadata": {},
   "outputs": [
    {
     "name": "stderr",
     "output_type": "stream",
     "text": [
      "C:\\Users\\User\\anaconda3\\New folder\\lib\\site-packages\\keras\\src\\engine\\training.py:3000: UserWarning: You are saving your model as an HDF5 file via `model.save()`. This file format is considered legacy. We recommend using instead the native Keras format, e.g. `model.save('my_model.keras')`.\n",
      "  saving_api.save_model(\n"
     ]
    }
   ],
   "source": [
    "from tensorflow.keras.models import save_model\n",
    "\n",
    "# Save your trained model to a file\n",
    "model.save('my_model.h5')  # Replace 'my_model.h5' with your desired file name"
   ]
  },
  {
   "cell_type": "code",
   "execution_count": 14,
   "id": "77e001b4",
   "metadata": {},
   "outputs": [],
   "source": [
    "from tensorflow.keras.models import load_model\n",
    "\n",
    "model = load_model('my_model.h5')  # Replace with the path to your saved model file"
   ]
  },
  {
   "cell_type": "code",
   "execution_count": 26,
   "id": "e6833961",
   "metadata": {},
   "outputs": [],
   "source": [
    "from tensorflow.keras.preprocessing import image\n",
    "import numpy as np\n",
    "\n",
    "# Load and preprocess the new image you want to classify\n",
    "new_image_path = 'C:/Users/User/Desktop/sandy.jpg'  # Replace with the path to your image\n",
    "new_image = image.load_img(new_image_path, target_size=(224, 224))  # Adjust target_size as needed\n",
    "new_image = image.img_to_array(new_image)\n",
    "new_image = np.expand_dims(new_image, axis=0)\n",
    "new_image = new_image / 255.0  # Normalize the image data"
   ]
  },
  {
   "cell_type": "code",
   "execution_count": 27,
   "id": "bbb6a8e5",
   "metadata": {},
   "outputs": [
    {
     "name": "stdout",
     "output_type": "stream",
     "text": [
      "1/1 [==============================] - 0s 48ms/step\n",
      "Predicted class: sandy\n"
     ]
    }
   ],
   "source": [
    "# Use the loaded model to predict the class of the new image\n",
    "predictions = model.predict(new_image)\n",
    "\n",
    "# Get the predicted class label (assuming one-hot encoding is used)\n",
    "predicted_class_index = np.argmax(predictions)\n",
    "\n",
    "# You may have a mapping of class indices to class names\n",
    "class_names = {0: 'grassy', 1: 'marshy', 2: 'rocky', 3: 'sandy'}  # Update with your class names\n",
    "\n",
    "# Get the predicted class name\n",
    "predicted_class_name = class_names[predicted_class_index]\n",
    "\n",
    "print(\"Predicted class:\", predicted_class_name)"
   ]
  },
  {
   "cell_type": "code",
   "execution_count": 23,
   "id": "5d321a13",
   "metadata": {},
   "outputs": [
    {
     "name": "stdout",
     "output_type": "stream",
     "text": [
      "[0]\n"
     ]
    }
   ],
   "source": [
    "class_indices = np.argmax(predictions, axis=1)\n",
    "print (class_indices)"
   ]
  },
  {
   "cell_type": "code",
   "execution_count": 24,
   "id": "84273072",
   "metadata": {},
   "outputs": [
    {
     "name": "stdout",
     "output_type": "stream",
     "text": [
      "[[9.5955539e-01 4.0443756e-02 8.4028915e-07 3.8132231e-09]]\n"
     ]
    }
   ],
   "source": [
    "print (predictions)"
   ]
  },
  {
   "cell_type": "code",
   "execution_count": 25,
   "id": "65c380af",
   "metadata": {},
   "outputs": [
    {
     "name": "stdout",
     "output_type": "stream",
     "text": [
      "Found 778 images belonging to 4 classes.\n",
      "25/25 [==============================] - 13s 501ms/step\n",
      "Confusion Matrix:\n",
      "[[  9  28  20  34]\n",
      " [ 17  47  38  68]\n",
      " [ 20  41  45  77]\n",
      " [ 34  74  87 139]]\n",
      "\n",
      "Classification Report:\n",
      "              precision    recall  f1-score   support\n",
      "\n",
      "      grassy       0.11      0.10      0.11        91\n",
      "      marshy       0.25      0.28      0.26       170\n",
      "       rocky       0.24      0.25      0.24       183\n",
      "       sandy       0.44      0.42      0.43       334\n",
      "\n",
      "    accuracy                           0.31       778\n",
      "   macro avg       0.26      0.26      0.26       778\n",
      "weighted avg       0.31      0.31      0.31       778\n",
      "\n",
      "\n",
      "Accuracy: 0.30848329048843187\n"
     ]
    }
   ],
   "source": [
    "import numpy as np\n",
    "from sklearn.metrics import classification_report, confusion_matrix\n",
    "\n",
    "# Load your test dataset\n",
    "test_data_dir = 'C:/Users/User/Downloads/terrain classification/dataset-1/test'  # Replace with the path to your test dataset\n",
    "batch_size = 32  # Adjust batch size as needed\n",
    "\n",
    "test_datagen = ImageDataGenerator(rescale=1.0 / 255)  # Make sure to use the same preprocessing as during training\n",
    "\n",
    "test_generator = test_datagen.flow_from_directory(\n",
    "    test_data_dir,\n",
    "    target_size=input_shape[:2],  # Use the same target size as during training\n",
    "    batch_size=batch_size,\n",
    "    class_mode='categorical'  # Change to 'binary' if it's binary classification\n",
    ")\n",
    "\n",
    "# Predict the classes for the test dataset\n",
    "predictions = model.predict(test_generator, steps=len(test_generator))\n",
    "predicted_classes = np.argmax(predictions, axis=1)\n",
    "\n",
    "# Get true classes from the test dataset\n",
    "true_classes = test_generator.classes\n",
    "\n",
    "# Calculate confusion matrix and other metrics\n",
    "confusion = confusion_matrix(true_classes, predicted_classes)\n",
    "report = classification_report(true_classes, predicted_classes, target_names=class_names.values())\n",
    "\n",
    "# Print the confusion matrix and classification report\n",
    "print(\"Confusion Matrix:\")\n",
    "print(confusion)\n",
    "print(\"\\nClassification Report:\")\n",
    "print(report)\n",
    "\n",
    "# Calculate and print accuracy\n",
    "accuracy = np.sum(predicted_classes == true_classes) / len(true_classes)\n",
    "print(\"\\nAccuracy:\", accuracy)"
   ]
  },
  {
   "cell_type": "code",
   "execution_count": 36,
   "id": "0ecf0e67",
   "metadata": {},
   "outputs": [
    {
     "ename": "NameError",
     "evalue": "name 'history' is not defined",
     "output_type": "error",
     "traceback": [
      "\u001b[1;31m---------------------------------------------------------------------------\u001b[0m",
      "\u001b[1;31mNameError\u001b[0m                                 Traceback (most recent call last)",
      "Cell \u001b[1;32mIn[36], line 8\u001b[0m\n\u001b[0;32m      6\u001b[0m plt\u001b[38;5;241m.\u001b[39mfigure(figsize\u001b[38;5;241m=\u001b[39m(\u001b[38;5;241m10\u001b[39m, \u001b[38;5;241m5\u001b[39m))\n\u001b[0;32m      7\u001b[0m plt\u001b[38;5;241m.\u001b[39msubplot(\u001b[38;5;241m1\u001b[39m, \u001b[38;5;241m2\u001b[39m, \u001b[38;5;241m1\u001b[39m)\n\u001b[1;32m----> 8\u001b[0m plt\u001b[38;5;241m.\u001b[39mplot(\u001b[43mhistory\u001b[49m\u001b[38;5;241m.\u001b[39mhistory[\u001b[38;5;124m'\u001b[39m\u001b[38;5;124maccuracy\u001b[39m\u001b[38;5;124m'\u001b[39m], label\u001b[38;5;241m=\u001b[39m\u001b[38;5;124m'\u001b[39m\u001b[38;5;124mTraining Accuracy\u001b[39m\u001b[38;5;124m'\u001b[39m)\n\u001b[0;32m      9\u001b[0m plt\u001b[38;5;241m.\u001b[39mplot(history\u001b[38;5;241m.\u001b[39mhistory[\u001b[38;5;124m'\u001b[39m\u001b[38;5;124mval_accuracy\u001b[39m\u001b[38;5;124m'\u001b[39m], label\u001b[38;5;241m=\u001b[39m\u001b[38;5;124m'\u001b[39m\u001b[38;5;124mValidation Accuracy\u001b[39m\u001b[38;5;124m'\u001b[39m)\n\u001b[0;32m     10\u001b[0m plt\u001b[38;5;241m.\u001b[39mtitle(\u001b[38;5;124m'\u001b[39m\u001b[38;5;124mAccuracy Over Epochs\u001b[39m\u001b[38;5;124m'\u001b[39m)\n",
      "\u001b[1;31mNameError\u001b[0m: name 'history' is not defined"
     ]
    },
    {
     "data": {
      "image/png": "[encoded data removed]",
      "text/plain": [
       "<Figure size 1000x500 with 1 Axes>"
      ]
     },
     "metadata": {},
     "output_type": "display_data"
    }
   ],
   "source": [
    "import matplotlib.pyplot as plt\n",
    "\n",
    "# Assuming you have the 'history' object from your model training\n",
    "\n",
    "# Plot training & validation accuracy\n",
    "plt.figure(figsize=(10, 5))\n",
    "plt.subplot(1, 2, 1)\n",
    "plt.plot(history.history['accuracy'], label='Training Accuracy')\n",
    "plt.plot(history.history['val_accuracy'], label='Validation Accuracy')\n",
    "plt.title('Accuracy Over Epochs')\n",
    "plt.xlabel('Epoch')\n",
    "plt.ylabel('Accuracy')\n",
    "plt.legend()\n",
    "\n",
    "# Plot training & validation loss\n",
    "plt.subplot(1, 2, 2)\n",
    "plt.plot(history.history['loss'], label='Training Loss')\n",
    "plt.plot(history.history['val_loss'], label='Validation Loss')\n",
    "plt.title('Loss Over Epochs')\n",
    "plt.xlabel('Epoch')\n",
    "plt.ylabel('Loss')\n",
    "plt.legend()\n",
    "\n",
    "plt.tight_layout()\n",
    "plt.show()"
   ]
  }
 ],
 "metadata": {
  "kernelspec": {
   "display_name": "Python 3 (ipykernel)",
   "language": "python",
   "name": "python3"
  },
  "language_info": {
   "codemirror_mode": {
    "name": "ipython",
    "version": 3
   },
   "file_extension": ".py",
   "mimetype": "text/x-python",
   "name": "python",
   "nbconvert_exporter": "python",
   "pygments_lexer": "ipython3",
   "version": "3.10.9"
  }
 },
 "nbformat": 4,
 "nbformat_minor": 5
}
